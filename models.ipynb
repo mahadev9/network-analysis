{
 "cells": [
  {
   "cell_type": "code",
   "execution_count": 1,
   "metadata": {},
   "outputs": [],
   "source": [
    "import numpy as np\n",
    "import networkx as nx\n",
    "import matplotlib.pyplot as plt\n",
    "\n",
    "import node2vec\n",
    "\n",
    "import torch\n",
    "import torch_geometric as tg\n",
    "\n",
    "from sklearn.manifold import SpectralEmbedding\n",
    "from sklearn.cluster import KMeans\n",
    "from sklearn.discriminant_analysis import LinearDiscriminantAnalysis, QuadraticDiscriminantAnalysis\n",
    "from sklearn.svm import SVC\n",
    "from sklearn.metrics import adjusted_rand_score\n",
    "from sklearn.model_selection import train_test_split"
   ]
  },
  {
   "cell_type": "markdown",
   "metadata": {},
   "source": [
    "## Read Data"
   ]
  },
  {
   "cell_type": "markdown",
   "metadata": {},
   "source": [
    "### AIDS Data\n",
    "https://networkrepository.com/AIDS.php"
   ]
  },
  {
   "cell_type": "code",
   "execution_count": 2,
   "metadata": {},
   "outputs": [],
   "source": [
    "AIDS_EDGES = None\n",
    "AIDS_LABELS = None\n",
    "\n",
    "with open('data/AIDS/AIDS.edges.txt') as edges_file:\n",
    "    AIDS_EDGES = np.loadtxt(edges_file, dtype=int, delimiter=',')\n",
    "\n",
    "with open('data/AIDS/AIDS.node_labels.txt') as nodes_file:\n",
    "    AIDS_LABELS = np.loadtxt(nodes_file, dtype=int, delimiter=',')\n",
    "    AIDS_LABELS = AIDS_LABELS[:, 1]"
   ]
  },
  {
   "cell_type": "markdown",
   "metadata": {},
   "source": [
    "### FB CMU Data\n",
    "https://networkrepository.com/fb-CMU-Carnegie49.php"
   ]
  },
  {
   "cell_type": "code",
   "execution_count": 3,
   "metadata": {},
   "outputs": [],
   "source": [
    "FB_CMU_EDGES = None\n",
    "FB_CMU_LABELS = None\n",
    "\n",
    "with open('data/fb-CMU-Carnegie49/fb-CMU-Carnegie49.edges.txt') as edges_file:\n",
    "    FB_CMU_EDGES = np.loadtxt(edges_file, dtype=int, delimiter=' ')\n",
    "\n",
    "with open('data/fb-CMU-Carnegie49/fb-CMU-Carnegie49.node_labels.txt') as nodes_file:\n",
    "    FB_CMU_LABELS = np.loadtxt(nodes_file, dtype=int, delimiter=',')\n",
    "    FB_CMU_LABELS = FB_CMU_LABELS[:, 1]"
   ]
  },
  {
   "cell_type": "markdown",
   "metadata": {},
   "source": [
    "## Web Spam Detection Data\n",
    "https://networkrepository.com/web-spam-detection.php"
   ]
  },
  {
   "cell_type": "code",
   "execution_count": 4,
   "metadata": {},
   "outputs": [],
   "source": [
    "SPAM_EDGES = None\n",
    "SPAM_LABELS = None\n",
    "\n",
    "with open('data/web-spam-detection/web-spam-detection.edges.txt') as edges_file:\n",
    "    SPAM_EDGES = np.loadtxt(edges_file, dtype=int, delimiter=',')\n",
    "\n",
    "with open('data/web-spam-detection/web-spam-detection.node_labels.txt') as nodes_file:\n",
    "    SPAM_LABELS = np.loadtxt(nodes_file, dtype=int, delimiter=',')\n",
    "    SPAM_LABELS = SPAM_LABELS[:, 1]"
   ]
  },
  {
   "cell_type": "markdown",
   "metadata": {},
   "source": [
    "## Data Preprocessing"
   ]
  },
  {
   "cell_type": "code",
   "execution_count": 5,
   "metadata": {},
   "outputs": [],
   "source": [
    "# X = AIDS_EDGES\n",
    "# Y = AIDS_LABELS\n",
    "\n",
    "X = FB_CMU_EDGES\n",
    "Y = FB_CMU_LABELS\n",
    "\n",
    "# X = SPAM_EDGES\n",
    "# Y = SPAM_LABELS"
   ]
  },
  {
   "cell_type": "code",
   "execution_count": 6,
   "metadata": {},
   "outputs": [],
   "source": [
    "G = nx.DiGraph()\n",
    "G.add_edges_from(X)"
   ]
  },
  {
   "cell_type": "code",
   "execution_count": 7,
   "metadata": {},
   "outputs": [
    {
     "name": "stdout",
     "output_type": "stream",
     "text": [
      "cuda\n"
     ]
    }
   ],
   "source": [
    "EPOCHS = 10000\n",
    "NUM_NODES = np.max(X)\n",
    "NUM_CLASSES_CLUSTERS = np.max(Y)\n",
    "\n",
    "device = torch.device('cuda' if torch.cuda.is_available() else 'cpu')\n",
    "print(device)"
   ]
  },
  {
   "cell_type": "code",
   "execution_count": 8,
   "metadata": {},
   "outputs": [],
   "source": [
    "train_mask = torch.zeros(NUM_NODES, dtype=torch.bool)\n",
    "test_mask = torch.zeros(NUM_NODES, dtype=torch.bool)\n",
    "train_mask[:int(NUM_NODES*0.8)] = True\n",
    "test_mask[int(NUM_NODES*0.8):] = True\n",
    "\n",
    "data = tg.data.Data(\n",
    "    train_mask=train_mask,\n",
    "    test_mask=test_mask,\n",
    "    x=torch.eye(NUM_NODES), \n",
    "    edge_index=torch.tensor(X-1, dtype=torch.long).t().contiguous(), \n",
    "    y=torch.nn.functional.one_hot(torch.tensor(Y-1, dtype=torch.long), NUM_CLASSES_CLUSTERS)).to(device)\n",
    "    # y=torch.tensor(Y-1, dtype=torch.long)).to(device)"
   ]
  },
  {
   "cell_type": "code",
   "execution_count": 9,
   "metadata": {},
   "outputs": [],
   "source": [
    "adjacency_matrix = np.zeros((NUM_NODES, NUM_NODES))\n",
    "adjacency_matrix[X[:, 0]-1, X[:, 1]-1] = 1\n",
    "adjacency_matrix[X[:, 1]-1, X[:, 0]-1] = 1"
   ]
  },
  {
   "cell_type": "markdown",
   "metadata": {},
   "source": [
    "## Fully Connected Neural Network"
   ]
  },
  {
   "cell_type": "code",
   "execution_count": 10,
   "metadata": {},
   "outputs": [],
   "source": [
    "class FCN(torch.nn.Module):\n",
    "    def __init__(self, num_nodes, num_classes):\n",
    "        super(FCN, self).__init__()\n",
    "        self.fc1 = torch.nn.Linear(num_nodes, 512)\n",
    "        self.fc2 = torch.nn.Linear(512, 128)\n",
    "        self.fc3 = torch.nn.Linear(128, num_classes)\n",
    "\n",
    "    def forward(self, x):\n",
    "        x = torch.nn.functional.relu(self.fc1(x))\n",
    "        x = torch.nn.functional.relu(self.fc2(x))\n",
    "        x = torch.nn.functional.softmax(self.fc3(x), dim=1)\n",
    "        return x"
   ]
  },
  {
   "cell_type": "code",
   "execution_count": 11,
   "metadata": {},
   "outputs": [],
   "source": [
    "model_fcn = FCN(NUM_NODES, NUM_CLASSES_CLUSTERS).to(device)\n",
    "optimizer_fcn = torch.optim.Adam(model_fcn.parameters(), lr=0.001)# , weight_decay=5e-4)\n",
    "loss_fn_fcn = torch.nn.MSELoss()"
   ]
  },
  {
   "cell_type": "code",
   "execution_count": 12,
   "metadata": {},
   "outputs": [],
   "source": [
    "X_TRAIN, X_TEST, Y_TRAIN, Y_TEST = train_test_split(adjacency_matrix, Y, test_size=0.2, random_state=42)\n",
    "X_TRAIN = torch.tensor(X_TRAIN, dtype=torch.float).to(device)\n",
    "X_TEST = torch.tensor(X_TEST, dtype=torch.float).to(device)\n",
    "Y_TRAIN = torch.nn.functional.one_hot(torch.tensor(Y_TRAIN-1, dtype=torch.long)).to(device)\n",
    "Y_TEST = torch.nn.functional.one_hot(torch.tensor(Y_TEST-1, dtype=torch.long)).to(device)"
   ]
  },
  {
   "cell_type": "code",
   "execution_count": 13,
   "metadata": {},
   "outputs": [
    {
     "name": "stdout",
     "output_type": "stream",
     "text": [
      "Epoch: 100, Loss: 0.00641, Acc: 0.73720\n",
      "Epoch: 200, Loss: 0.00580, Acc: 0.74172\n",
      "Epoch: 300, Loss: 0.00579, Acc: 0.74096\n",
      "Epoch: 400, Loss: 0.00578, Acc: 0.74096\n",
      "Epoch: 500, Loss: 0.00578, Acc: 0.74021\n",
      "Epoch: 600, Loss: 0.00578, Acc: 0.74172\n",
      "Epoch: 700, Loss: 0.00578, Acc: 0.74247\n",
      "Epoch: 800, Loss: 0.00578, Acc: 0.74247\n",
      "Epoch: 900, Loss: 0.00578, Acc: 0.74172\n",
      "Epoch: 1000, Loss: 0.00578, Acc: 0.74172\n",
      "Epoch: 1100, Loss: 0.00578, Acc: 0.74172\n",
      "Epoch: 1200, Loss: 0.00578, Acc: 0.74172\n",
      "Epoch: 1300, Loss: 0.00578, Acc: 0.74096\n",
      "Epoch: 1400, Loss: 0.00578, Acc: 0.74172\n",
      "Epoch: 1500, Loss: 0.00578, Acc: 0.74172\n",
      "Epoch: 1600, Loss: 0.00578, Acc: 0.74172\n",
      "Epoch: 1700, Loss: 0.00578, Acc: 0.74172\n",
      "Epoch: 1800, Loss: 0.00578, Acc: 0.74172\n",
      "Epoch: 1900, Loss: 0.00560, Acc: 0.75000\n",
      "Epoch: 2000, Loss: 0.00553, Acc: 0.75301\n",
      "Epoch: 2100, Loss: 0.00553, Acc: 0.75075\n",
      "Epoch: 2200, Loss: 0.00553, Acc: 0.75075\n",
      "Epoch: 2300, Loss: 0.00553, Acc: 0.75075\n",
      "Epoch: 2400, Loss: 0.00553, Acc: 0.75075\n",
      "Epoch: 2500, Loss: 0.00553, Acc: 0.75075\n",
      "Epoch: 2600, Loss: 0.00553, Acc: 0.75075\n",
      "Epoch: 2700, Loss: 0.00553, Acc: 0.75000\n",
      "Epoch: 2800, Loss: 0.00553, Acc: 0.75000\n",
      "Epoch: 2900, Loss: 0.00553, Acc: 0.75075\n",
      "Epoch: 3000, Loss: 0.00553, Acc: 0.75075\n",
      "Epoch: 3100, Loss: 0.00553, Acc: 0.75000\n",
      "Epoch: 3200, Loss: 0.00553, Acc: 0.75075\n",
      "Epoch: 3300, Loss: 0.00553, Acc: 0.75075\n",
      "Epoch: 3400, Loss: 0.00553, Acc: 0.75151\n",
      "Epoch: 3500, Loss: 0.00553, Acc: 0.75151\n",
      "Epoch: 3600, Loss: 0.00553, Acc: 0.75075\n",
      "Epoch: 3700, Loss: 0.00553, Acc: 0.75075\n",
      "Epoch: 3800, Loss: 0.00553, Acc: 0.75075\n",
      "Epoch: 3900, Loss: 0.00553, Acc: 0.75075\n",
      "Epoch: 4000, Loss: 0.00553, Acc: 0.75151\n",
      "Epoch: 4100, Loss: 0.00553, Acc: 0.75226\n",
      "Epoch: 4200, Loss: 0.00553, Acc: 0.75226\n",
      "Epoch: 4300, Loss: 0.00553, Acc: 0.75226\n",
      "Epoch: 4400, Loss: 0.00553, Acc: 0.75226\n",
      "Epoch: 4500, Loss: 0.00553, Acc: 0.75226\n",
      "Epoch: 4600, Loss: 0.00553, Acc: 0.75301\n",
      "Epoch: 4700, Loss: 0.00553, Acc: 0.75226\n",
      "Epoch: 4800, Loss: 0.00553, Acc: 0.75377\n",
      "Epoch: 4900, Loss: 0.00553, Acc: 0.75452\n",
      "Epoch: 5000, Loss: 0.00553, Acc: 0.75452\n",
      "Epoch: 5100, Loss: 0.00553, Acc: 0.75452\n",
      "Epoch: 5200, Loss: 0.00553, Acc: 0.75452\n",
      "Epoch: 5300, Loss: 0.00553, Acc: 0.75452\n",
      "Epoch: 5400, Loss: 0.00553, Acc: 0.75452\n",
      "Epoch: 5500, Loss: 0.00553, Acc: 0.75452\n",
      "Epoch: 5600, Loss: 0.00553, Acc: 0.75452\n",
      "Epoch: 5700, Loss: 0.00553, Acc: 0.75452\n",
      "Epoch: 5800, Loss: 0.00553, Acc: 0.75452\n",
      "Epoch: 5900, Loss: 0.00553, Acc: 0.75452\n",
      "Epoch: 6000, Loss: 0.00553, Acc: 0.75452\n",
      "Epoch: 6100, Loss: 0.00553, Acc: 0.75527\n",
      "Epoch: 6200, Loss: 0.00553, Acc: 0.75527\n",
      "Epoch: 6300, Loss: 0.00553, Acc: 0.75527\n",
      "Epoch: 6400, Loss: 0.00553, Acc: 0.75527\n",
      "Epoch: 6500, Loss: 0.00553, Acc: 0.75527\n",
      "Epoch: 6600, Loss: 0.00553, Acc: 0.75527\n",
      "Epoch: 6700, Loss: 0.00553, Acc: 0.75527\n",
      "Epoch: 6800, Loss: 0.00553, Acc: 0.75527\n",
      "Epoch: 6900, Loss: 0.00553, Acc: 0.75527\n",
      "Epoch: 7000, Loss: 0.00553, Acc: 0.75527\n",
      "Epoch: 7100, Loss: 0.00553, Acc: 0.75527\n",
      "Epoch: 7200, Loss: 0.00553, Acc: 0.75527\n",
      "Epoch: 7300, Loss: 0.00553, Acc: 0.75602\n",
      "Epoch: 7400, Loss: 0.00553, Acc: 0.75602\n",
      "Epoch: 7500, Loss: 0.00553, Acc: 0.75527\n",
      "Epoch: 7600, Loss: 0.00553, Acc: 0.75602\n",
      "Epoch: 7700, Loss: 0.00553, Acc: 0.75602\n",
      "Epoch: 7800, Loss: 0.00553, Acc: 0.75602\n",
      "Epoch: 7900, Loss: 0.00553, Acc: 0.75602\n",
      "Epoch: 8000, Loss: 0.00553, Acc: 0.75602\n",
      "Epoch: 8100, Loss: 0.00553, Acc: 0.75602\n",
      "Epoch: 8200, Loss: 0.00553, Acc: 0.75602\n",
      "Epoch: 8300, Loss: 0.00553, Acc: 0.75602\n",
      "Epoch: 8400, Loss: 0.00553, Acc: 0.75602\n",
      "Epoch: 8500, Loss: 0.00553, Acc: 0.75602\n",
      "Epoch: 8600, Loss: 0.00553, Acc: 0.75602\n",
      "Epoch: 8700, Loss: 0.00553, Acc: 0.75527\n",
      "Epoch: 8800, Loss: 0.00553, Acc: 0.75452\n",
      "Epoch: 8900, Loss: 0.00553, Acc: 0.75452\n",
      "Epoch: 9000, Loss: 0.00553, Acc: 0.75452\n",
      "Epoch: 9100, Loss: 0.00553, Acc: 0.75452\n",
      "Epoch: 9200, Loss: 0.00553, Acc: 0.75377\n",
      "Epoch: 9300, Loss: 0.00553, Acc: 0.75377\n",
      "Epoch: 9400, Loss: 0.00553, Acc: 0.75377\n",
      "Epoch: 9500, Loss: 0.00553, Acc: 0.75377\n",
      "Epoch: 9600, Loss: 0.00553, Acc: 0.75377\n",
      "Epoch: 9700, Loss: 0.00553, Acc: 0.75377\n",
      "Epoch: 9800, Loss: 0.00553, Acc: 0.75377\n",
      "Epoch: 9900, Loss: 0.00553, Acc: 0.75377\n",
      "Epoch: 10000, Loss: 0.00553, Acc: 0.75377\n"
     ]
    }
   ],
   "source": [
    "loss_list_fcn = []\n",
    "acc_list_fcn = []\n",
    "\n",
    "for epoch in range(EPOCHS):\n",
    "    model_fcn.train()\n",
    "    optimizer_fcn.zero_grad()\n",
    "    out = model_fcn(X_TRAIN)\n",
    "    loss = loss_fn_fcn(out, Y_TRAIN.float())\n",
    "    loss.backward()\n",
    "    optimizer_fcn.step()\n",
    "\n",
    "    model_fcn.eval()\n",
    "    _, pred = model_fcn(X_TEST).max(dim=1)\n",
    "    correct = float(pred.eq(Y_TEST.float().argmax(dim=1)).sum().item())\n",
    "    acc = correct / len(Y_TEST)\n",
    "    if (epoch+1) % 100 == 0:\n",
    "        print('Epoch: {:03d}, Loss: {:.5f}, Acc: {:.5f}'.format(epoch+1, loss, acc))\n",
    "\n",
    "    loss_list_fcn.append(loss.item())\n",
    "    acc_list_fcn.append(acc)"
   ]
  },
  {
   "cell_type": "code",
   "execution_count": 14,
   "metadata": {},
   "outputs": [
    {
     "name": "stdout",
     "output_type": "stream",
     "text": [
      "Test Accuracy: 0.75377\n",
      "Adjusted Rand Index: 0.38149096257218973\n"
     ]
    }
   ],
   "source": [
    "# test the model\n",
    "model_fcn.eval()\n",
    "_, pred = model_fcn(X_TEST).max(dim=1)\n",
    "correct = float(pred.eq(Y_TEST.argmax(dim=1)).sum().item())\n",
    "acc = correct / len(Y_TEST)\n",
    "print('Test Accuracy: {:.5f}'.format(acc))\n",
    "print(f\"Adjusted Rand Index: {adjusted_rand_score(Y_TEST.cpu().numpy().argmax(axis=1), pred.cpu().numpy())}\")"
   ]
  },
  {
   "cell_type": "code",
   "execution_count": 15,
   "metadata": {},
   "outputs": [
    {
     "data": {
      "image/png": "[encoded data removed]",
      "text/plain": [
       "<Figure size 640x480 with 1 Axes>"
      ]
     },
     "metadata": {},
     "output_type": "display_data"
    }
   ],
   "source": [
    "# plot loss and accuracy\n",
    "plt.plot(loss_list_fcn)\n",
    "plt.plot(acc_list_fcn)\n",
    "plt.legend(['loss', 'accuracy'])\n",
    "plt.show()"
   ]
  },
  {
   "cell_type": "markdown",
   "metadata": {},
   "source": [
    "## Convolutional Neural Network"
   ]
  },
  {
   "cell_type": "markdown",
   "metadata": {},
   "source": [
    "```\n",
    "class CNN(torch.nn.Module):\n",
    "    def __init__(self, num_nodes, num_classes):\n",
    "        super(CNN, self).__init__()\n",
    "        self.conv1 = torch.nn.Conv2d(1, 32, kernel_size=3, stride=1, padding=2)\n",
    "        self.conv2 = torch.nn.Conv2d(32, 64, kernel_size=3, stride=1, padding=2)\n",
    "        self.conv3 = torch.nn.Conv2d(64, 128, kernel_size=3, stride=1, padding=2)\n",
    "        self.pool = torch.nn.MaxPool2d(kernel_size=2, stride=2, padding=0)\n",
    "        self.fc1 = torch.nn.Linear(128*10*10, 1024)\n",
    "        self.fc2 = torch.nn.Linear(1024, num_classes)\n",
    "    \n",
    "    def forward(self, x):\n",
    "        x = self.pool(torch.nn.functional.relu(self.conv1(x)))\n",
    "        x = self.pool(torch.nn.functional.relu(self.conv2(x)))\n",
    "        x = self.pool(torch.nn.functional.relu(self.conv3(x)))\n",
    "        x = x.view(-1, 128*10*10)\n",
    "        x = torch.nn.functional.relu(self.fc1(x))\n",
    "        x = torch.nn.functional.softmax(self.fc2(x), dim=1)\n",
    "        return x\n",
    "```"
   ]
  },
  {
   "cell_type": "markdown",
   "metadata": {},
   "source": [
    "```\n",
    "model_cnn = CNN(NUM_NODES, NUM_CLASSES_CLUSTERS).to(device)\n",
    "optimizer_cnn = torch.optim.Adam(model_cnn.parameters(), lr=0.1, weight_decay=5e-4)\n",
    "loss_fn_cnn = torch.nn.MSELoss()\n",
    "```"
   ]
  },
  {
   "cell_type": "markdown",
   "metadata": {},
   "source": [
    "```\n",
    "X_TRAIN, X_TEST, Y_TRAIN, Y_TEST = train_test_split(adjacency_matrix, Y, test_size=0.2, random_state=42)\n",
    "X_TRAIN = torch.tensor(X_TRAIN, dtype=torch.float).to(device)\n",
    "X_TEST = torch.tensor(X_TEST, dtype=torch.float).to(device)\n",
    "Y_TRAIN = torch.nn.functional.one_hot(torch.tensor(Y_TRAIN-1, dtype=torch.long)).to(device)\n",
    "Y_TEST = torch.nn.functional.one_hot(torch.tensor(Y_TEST-1, dtype=torch.long)).to(device)\n",
    "```"
   ]
  },
  {
   "cell_type": "markdown",
   "metadata": {},
   "source": [
    "```\n",
    "X_TRAIN = X_TRAIN.view(-1, 1, 49, 49)\n",
    "X_TEST = X_TEST.view(-1, 1, 49, 49)\n",
    "\n",
    "dataset = torch.utils.data.TensorDataset(X_TRAIN, Y_TRAIN)\n",
    "dataloader = torch.utils.data.DataLoader(dataset, batch_size=32, shuffle=True)\n",
    "```"
   ]
  },
  {
   "cell_type": "markdown",
   "metadata": {},
   "source": [
    "```\n",
    "for epoch in range(EPOCHS):\n",
    "    for data, label in dataloader:\n",
    "        model_cnn.train()\n",
    "        optimizer_cnn.zero_grad()\n",
    "        out = model_cnn(data)\n",
    "        loss = loss_fn_cnn(out, label.float())\n",
    "        loss.backward()\n",
    "        optimizer_cnn.step()\n",
    "    print('Epoch: {:03d}, Loss: {:.5f}'.format(epoch+1, loss))\n",
    "```"
   ]
  },
  {
   "cell_type": "markdown",
   "metadata": {},
   "source": [
    "```\n",
    "loss_list_cnn = []\n",
    "acc_list_cnn = []\n",
    "\n",
    "for epoch in range(EPOCHS):\n",
    "    model_cnn.train()\n",
    "    optimizer_cnn.zero_grad()\n",
    "    out = model_cnn(X_TRAIN)\n",
    "    loss = loss_fn_fcn(out, Y_TRAIN.float())\n",
    "    loss.backward()\n",
    "    optimizer_cnn.step()\n",
    "\n",
    "    model_cnn.eval()\n",
    "    _, pred = model_cnn(X_TEST).max(dim=1)\n",
    "    correct = float(pred.eq(Y_TEST.float().argmax(dim=1)).sum().item())\n",
    "    acc = correct / len(Y_TEST)\n",
    "    if (epoch+1) % 100 == 0:\n",
    "        print('Epoch: {:03d}, Loss: {:.5f}, Acc: {:.5f}'.format(epoch+1, loss, acc))\n",
    "\n",
    "    loss_list_fcn.append(loss.item())\n",
    "    acc_list_fcn.append(acc)\n",
    "```"
   ]
  },
  {
   "cell_type": "markdown",
   "metadata": {},
   "source": [
    "```\n",
    "# test the model\n",
    "model_cnn.eval()\n",
    "_, pred = model_cnn(X_TEST).max(dim=1)\n",
    "correct = float(pred.eq(Y_TEST.argmax(dim=1)).sum().item())\n",
    "acc = correct / len(data.y)\n",
    "print('Test Accuracy: {:.5f}'.format(acc))\n",
    "```"
   ]
  },
  {
   "cell_type": "markdown",
   "metadata": {},
   "source": [
    "```\n",
    "# plot loss and accuracy\n",
    "plt.plot(loss_list_cnn)\n",
    "plt.plot(acc_list_cnn)\n",
    "plt.legend(['loss', 'accuracy'])\n",
    "plt.show()\n",
    "```"
   ]
  },
  {
   "cell_type": "markdown",
   "metadata": {},
   "source": [
    "## Graph Convolutional Network with 2 fully connected layers "
   ]
  },
  {
   "cell_type": "code",
   "execution_count": 16,
   "metadata": {},
   "outputs": [],
   "source": [
    "class GCN(torch.nn.Module):\n",
    "    def __init__(self, num_node_features, num_classes):\n",
    "        super(GCN, self).__init__()\n",
    "        self.conv1 = tg.nn.GCNConv(num_node_features, 1024)\n",
    "        self.conv2 = tg.nn.GCNConv(1024, 256)\n",
    "        self.conv3 = tg.nn.GCNConv(256, 128)\n",
    "        self.fc1 = torch.nn.Linear(128, 64)\n",
    "        self.fc2 = torch.nn.Linear(64, num_classes)\n",
    "\n",
    "\n",
    "    def forward(self, data):\n",
    "        x, edge_index = data.x, data.edge_index\n",
    "\n",
    "        x = self.conv1(x, edge_index)\n",
    "        x = torch.nn.functional.relu(x)\n",
    "        x = torch.nn.functional.dropout(x, training=self.training)\n",
    "        x = self.conv2(x, edge_index)\n",
    "        x = torch.nn.functional.relu(x)\n",
    "        x = torch.nn.functional.dropout(x, training=self.training)\n",
    "        x = self.conv3(x, edge_index)\n",
    "        x = torch.nn.functional.relu(x)\n",
    "        x = torch.nn.functional.dropout(x, training=self.training)\n",
    "        x = self.fc1(x)\n",
    "        x = torch.nn.functional.relu(x)\n",
    "        x = self.fc2(x)\n",
    "        # x = torch.nn.functional.relu(x)\n",
    "        x = torch.nn.functional.softmax(x, dim=1)\n",
    "        return x"
   ]
  },
  {
   "cell_type": "code",
   "execution_count": 17,
   "metadata": {},
   "outputs": [],
   "source": [
    "model_gcn = GCN(num_node_features=NUM_NODES, num_classes=NUM_CLASSES_CLUSTERS).to(device)\n",
    "optimizer_gcn = torch.optim.Adam(model_gcn.parameters(), lr=0.001, weight_decay=5e-4)\n",
    "loss_fn_gcn = torch.nn.CrossEntropyLoss()"
   ]
  },
  {
   "cell_type": "code",
   "execution_count": 18,
   "metadata": {},
   "outputs": [
    {
     "name": "stdout",
     "output_type": "stream",
     "text": [
      "Epoch: 100\t Loss: 0.8903\t Val Acc: 0.6431\n",
      "Epoch: 200\t Loss: 0.8416\t Val Acc: 0.6815\n",
      "Epoch: 300\t Loss: 0.8252\t Val Acc: 0.6461\n",
      "Epoch: 400\t Loss: 0.8462\t Val Acc: 0.6544\n",
      "Epoch: 500\t Loss: 0.8147\t Val Acc: 0.6717\n",
      "Epoch: 600\t Loss: 0.8093\t Val Acc: 0.6845\n",
      "Epoch: 700\t Loss: 0.8062\t Val Acc: 0.6785\n",
      "Epoch: 800\t Loss: 0.8026\t Val Acc: 0.6837\n",
      "Epoch: 900\t Loss: 0.8025\t Val Acc: 0.6649\n",
      "Epoch: 1000\t Loss: 0.7982\t Val Acc: 0.6792\n",
      "Epoch: 1100\t Loss: 0.7910\t Val Acc: 0.6883\n",
      "Epoch: 1200\t Loss: 0.8177\t Val Acc: 0.6551\n",
      "Epoch: 1300\t Loss: 0.7874\t Val Acc: 0.6860\n",
      "Epoch: 1400\t Loss: 0.7965\t Val Acc: 0.6634\n",
      "Epoch: 1500\t Loss: 0.8154\t Val Acc: 0.6890\n",
      "Epoch: 1600\t Loss: 0.7846\t Val Acc: 0.6898\n",
      "Epoch: 1700\t Loss: 0.7877\t Val Acc: 0.6852\n",
      "Epoch: 1800\t Loss: 0.7778\t Val Acc: 0.6574\n",
      "Epoch: 1900\t Loss: 0.7769\t Val Acc: 0.6830\n",
      "Epoch: 2000\t Loss: 0.7726\t Val Acc: 0.6928\n",
      "Epoch: 2100\t Loss: 0.7762\t Val Acc: 0.6898\n",
      "Epoch: 2200\t Loss: 0.7921\t Val Acc: 0.6883\n",
      "Epoch: 2300\t Loss: 0.7899\t Val Acc: 0.6980\n",
      "Epoch: 2400\t Loss: 0.7703\t Val Acc: 0.6905\n",
      "Epoch: 2500\t Loss: 0.7678\t Val Acc: 0.6920\n",
      "Epoch: 2600\t Loss: 0.7747\t Val Acc: 0.6664\n",
      "Epoch: 2700\t Loss: 0.7739\t Val Acc: 0.6883\n",
      "Epoch: 2800\t Loss: 0.7651\t Val Acc: 0.6604\n",
      "Epoch: 2900\t Loss: 0.7687\t Val Acc: 0.6845\n",
      "Epoch: 3000\t Loss: 0.7717\t Val Acc: 0.6852\n",
      "Epoch: 3100\t Loss: 0.7742\t Val Acc: 0.6898\n",
      "Epoch: 3200\t Loss: 0.7623\t Val Acc: 0.6800\n",
      "Epoch: 3300\t Loss: 0.7575\t Val Acc: 0.6401\n",
      "Epoch: 3400\t Loss: 0.7547\t Val Acc: 0.6672\n",
      "Epoch: 3500\t Loss: 0.7551\t Val Acc: 0.6943\n",
      "Epoch: 3600\t Loss: 0.7526\t Val Acc: 0.6634\n",
      "Epoch: 3700\t Loss: 0.7620\t Val Acc: 0.6988\n",
      "Epoch: 3800\t Loss: 0.7534\t Val Acc: 0.6152\n",
      "Epoch: 3900\t Loss: 0.7643\t Val Acc: 0.6867\n",
      "Epoch: 4000\t Loss: 0.7843\t Val Acc: 0.6965\n",
      "Epoch: 4100\t Loss: 0.7708\t Val Acc: 0.6913\n",
      "Epoch: 4200\t Loss: 0.7549\t Val Acc: 0.6988\n",
      "Epoch: 4300\t Loss: 0.7485\t Val Acc: 0.6995\n",
      "Epoch: 4400\t Loss: 0.7492\t Val Acc: 0.6852\n",
      "Epoch: 4500\t Loss: 0.7532\t Val Acc: 0.6770\n",
      "Epoch: 4600\t Loss: 0.7907\t Val Acc: 0.6965\n",
      "Epoch: 4700\t Loss: 0.7490\t Val Acc: 0.6770\n",
      "Epoch: 4800\t Loss: 0.7645\t Val Acc: 0.6830\n",
      "Epoch: 4900\t Loss: 0.7467\t Val Acc: 0.6732\n",
      "Epoch: 5000\t Loss: 0.7464\t Val Acc: 0.6905\n",
      "Epoch: 5100\t Loss: 0.7445\t Val Acc: 0.7033\n",
      "Epoch: 5200\t Loss: 0.7591\t Val Acc: 0.6852\n",
      "Epoch: 5300\t Loss: 0.7455\t Val Acc: 0.6867\n",
      "Epoch: 5400\t Loss: 0.7450\t Val Acc: 0.7041\n",
      "Epoch: 5500\t Loss: 0.7756\t Val Acc: 0.6807\n",
      "Epoch: 5600\t Loss: 0.7445\t Val Acc: 0.6709\n",
      "Epoch: 5700\t Loss: 0.7563\t Val Acc: 0.6935\n",
      "Epoch: 5800\t Loss: 0.7468\t Val Acc: 0.6973\n",
      "Epoch: 5900\t Loss: 0.7439\t Val Acc: 0.6995\n",
      "Epoch: 6000\t Loss: 0.7462\t Val Acc: 0.6980\n",
      "Epoch: 6100\t Loss: 0.7382\t Val Acc: 0.6943\n",
      "Epoch: 6200\t Loss: 0.7729\t Val Acc: 0.6973\n",
      "Epoch: 6300\t Loss: 0.7457\t Val Acc: 0.6965\n",
      "Epoch: 6400\t Loss: 0.7400\t Val Acc: 0.6905\n",
      "Epoch: 6500\t Loss: 0.7465\t Val Acc: 0.6898\n",
      "Epoch: 6600\t Loss: 0.7372\t Val Acc: 0.6657\n",
      "Epoch: 6700\t Loss: 0.7420\t Val Acc: 0.6860\n",
      "Epoch: 6800\t Loss: 0.7597\t Val Acc: 0.6822\n",
      "Epoch: 6900\t Loss: 0.7502\t Val Acc: 0.6852\n",
      "Epoch: 7000\t Loss: 0.7431\t Val Acc: 0.6973\n",
      "Epoch: 7100\t Loss: 0.7459\t Val Acc: 0.6792\n",
      "Epoch: 7200\t Loss: 0.7402\t Val Acc: 0.6973\n",
      "Epoch: 7300\t Loss: 0.7551\t Val Acc: 0.6694\n",
      "Epoch: 7400\t Loss: 0.7461\t Val Acc: 0.6664\n",
      "Epoch: 7500\t Loss: 0.7447\t Val Acc: 0.6664\n",
      "Epoch: 7600\t Loss: 0.7457\t Val Acc: 0.6581\n",
      "Epoch: 7700\t Loss: 0.7522\t Val Acc: 0.6755\n",
      "Epoch: 7800\t Loss: 0.7440\t Val Acc: 0.6935\n",
      "Epoch: 7900\t Loss: 0.7413\t Val Acc: 0.7011\n",
      "Epoch: 8000\t Loss: 0.7393\t Val Acc: 0.6717\n",
      "Epoch: 8100\t Loss: 0.7372\t Val Acc: 0.6883\n",
      "Epoch: 8200\t Loss: 0.7411\t Val Acc: 0.6755\n",
      "Epoch: 8300\t Loss: 0.7678\t Val Acc: 0.6815\n",
      "Epoch: 8400\t Loss: 0.7442\t Val Acc: 0.6928\n",
      "Epoch: 8500\t Loss: 0.7465\t Val Acc: 0.6837\n",
      "Epoch: 8600\t Loss: 0.7390\t Val Acc: 0.6980\n",
      "Epoch: 8700\t Loss: 0.7353\t Val Acc: 0.6965\n",
      "Epoch: 8800\t Loss: 0.7447\t Val Acc: 0.6521\n",
      "Epoch: 8900\t Loss: 0.7600\t Val Acc: 0.6913\n",
      "Epoch: 9000\t Loss: 0.7384\t Val Acc: 0.6905\n",
      "Epoch: 9100\t Loss: 0.7475\t Val Acc: 0.7033\n",
      "Epoch: 9200\t Loss: 0.7559\t Val Acc: 0.6928\n",
      "Epoch: 9300\t Loss: 0.7376\t Val Acc: 0.6920\n",
      "Epoch: 9400\t Loss: 0.7395\t Val Acc: 0.7026\n",
      "Epoch: 9500\t Loss: 0.7397\t Val Acc: 0.6890\n",
      "Epoch: 9600\t Loss: 0.7426\t Val Acc: 0.6837\n",
      "Epoch: 9700\t Loss: 0.7354\t Val Acc: 0.6852\n",
      "Epoch: 9800\t Loss: 0.7366\t Val Acc: 0.6988\n",
      "Epoch: 9900\t Loss: 0.7813\t Val Acc: 0.6958\n",
      "Epoch: 10000\t Loss: 0.7387\t Val Acc: 0.6898\n"
     ]
    }
   ],
   "source": [
    "loss_list_gcn = []\n",
    "accuracy_list_gcn = []\n",
    "\n",
    "for epoch in range(EPOCHS):\n",
    "    model_gcn.train()\n",
    "    optimizer_gcn.zero_grad()\n",
    "    out = model_gcn(data)\n",
    "    loss = loss_fn_gcn(out[data.train_mask], data.y[data.train_mask].float())\n",
    "    loss.backward()\n",
    "    optimizer_gcn.step()\n",
    "\n",
    "    # validate the model\n",
    "    model_gcn.eval()\n",
    "    _, pred = model_gcn(data).max(dim=1)\n",
    "    _, true_labels = torch.max(data.y.float(), dim=1)\n",
    "    correct = float(pred[data.test_mask].eq(true_labels[data.test_mask]).sum().item())\n",
    "    acc = correct / len(data.y[data.test_mask])\n",
    "    loss_list_gcn.append(loss.item())\n",
    "    accuracy_list_gcn.append(acc)\n",
    "    if (epoch+1) % 100 == 0:\n",
    "        print(f'Epoch: {epoch+1:03d}\\t Loss: {loss:.4f}\\t Val Acc: {acc:.4f}')"
   ]
  },
  {
   "cell_type": "code",
   "execution_count": 19,
   "metadata": {},
   "outputs": [
    {
     "name": "stdout",
     "output_type": "stream",
     "text": [
      "Test Acc: 0.6898\n",
      "Adjusted Rand Index: 0.47514194151225697\n"
     ]
    }
   ],
   "source": [
    "# test the model\n",
    "model_gcn.eval()\n",
    "_, pred = model_gcn(data).max(dim=1)\n",
    "_, true_labels = torch.max(data.y.float(), dim=1)\n",
    "correct = float(pred[data.test_mask].eq(true_labels[data.test_mask]).sum().item())\n",
    "acc = correct / len(data.y[data.test_mask])\n",
    "print(f'Test Acc: {acc:.4f}')\n",
    "print(f\"Adjusted Rand Index: {adjusted_rand_score(pred.cpu().numpy(), true_labels.cpu().numpy())}\")"
   ]
  },
  {
   "cell_type": "code",
   "execution_count": 20,
   "metadata": {},
   "outputs": [
    {
     "data": {
      "image/png": "[encoded data removed]",
      "text/plain": [
       "<Figure size 640x480 with 1 Axes>"
      ]
     },
     "metadata": {},
     "output_type": "display_data"
    }
   ],
   "source": [
    "# plot loss and accuracy\n",
    "plt.plot(loss_list_gcn)\n",
    "plt.plot(accuracy_list_gcn)\n",
    "plt.legend(['loss', 'accuracy'])\n",
    "plt.show()"
   ]
  },
  {
   "cell_type": "markdown",
   "metadata": {},
   "source": [
    "## Graph Encoder Embedding"
   ]
  },
  {
   "cell_type": "code",
   "execution_count": 21,
   "metadata": {},
   "outputs": [],
   "source": [
    "class GraphEncoderEmbedding(torch.nn.Module):\n",
    "    def __init__(self, num_features, num_classes):\n",
    "        super(GraphEncoderEmbedding, self).__init__()\n",
    "        self.conv1 = tg.nn.GCNConv(num_features, 256)\n",
    "        self.conv2 = tg.nn.GCNConv(256, num_classes)\n",
    "\n",
    "    def forward(self, x, edge_index):\n",
    "        \n",
    "        x = self.conv1(x, edge_index)\n",
    "        x = torch.nn.functional.relu(x)\n",
    "        x = torch.nn.functional.dropout(x, training=self.training)\n",
    "        x = self.conv2(x, edge_index)\n",
    "        x = torch.nn.functional.softmax(x, dim=1)\n",
    "        return x"
   ]
  },
  {
   "cell_type": "code",
   "execution_count": 22,
   "metadata": {},
   "outputs": [],
   "source": [
    "model_gcn_lda = GraphEncoderEmbedding(num_features=NUM_NODES, num_classes=NUM_CLASSES_CLUSTERS).to(device)\n",
    "optimizer_gcn_lda = torch.optim.Adam(model_gcn_lda.parameters(), lr=0.01) #, weight_decay=5e-4)\n",
    "loss_fn_gcn_lda = torch.nn.MSELoss()"
   ]
  },
  {
   "cell_type": "code",
   "execution_count": 23,
   "metadata": {},
   "outputs": [
    {
     "name": "stdout",
     "output_type": "stream",
     "text": [
      "Epoch: 100\t Loss: 0.0645\t Val Acc: 0.7123\n",
      "Epoch: 200\t Loss: 0.0399\t Val Acc: 0.7011\n",
      "Epoch: 300\t Loss: 0.0297\t Val Acc: 0.6988\n",
      "Epoch: 400\t Loss: 0.0253\t Val Acc: 0.6950\n",
      "Epoch: 500\t Loss: 0.0218\t Val Acc: 0.6875\n",
      "Epoch: 600\t Loss: 0.0210\t Val Acc: 0.6867\n",
      "Epoch: 700\t Loss: 0.0209\t Val Acc: 0.6837\n",
      "Epoch: 800\t Loss: 0.0191\t Val Acc: 0.6822\n",
      "Epoch: 900\t Loss: 0.0185\t Val Acc: 0.6860\n",
      "Epoch: 1000\t Loss: 0.0183\t Val Acc: 0.6762\n",
      "Epoch: 1100\t Loss: 0.0173\t Val Acc: 0.6777\n",
      "Epoch: 1200\t Loss: 0.0176\t Val Acc: 0.6830\n",
      "Epoch: 1300\t Loss: 0.0172\t Val Acc: 0.6860\n",
      "Epoch: 1400\t Loss: 0.0169\t Val Acc: 0.6815\n",
      "Epoch: 1500\t Loss: 0.0168\t Val Acc: 0.6800\n",
      "Epoch: 1600\t Loss: 0.0164\t Val Acc: 0.6732\n",
      "Epoch: 1700\t Loss: 0.0169\t Val Acc: 0.6732\n",
      "Epoch: 1800\t Loss: 0.0163\t Val Acc: 0.6792\n",
      "Epoch: 1900\t Loss: 0.0164\t Val Acc: 0.6732\n",
      "Epoch: 2000\t Loss: 0.0167\t Val Acc: 0.6724\n",
      "Epoch: 2100\t Loss: 0.0163\t Val Acc: 0.6777\n",
      "Epoch: 2200\t Loss: 0.0162\t Val Acc: 0.6785\n",
      "Epoch: 2300\t Loss: 0.0166\t Val Acc: 0.6747\n",
      "Epoch: 2400\t Loss: 0.0163\t Val Acc: 0.6747\n",
      "Epoch: 2500\t Loss: 0.0165\t Val Acc: 0.6845\n",
      "Epoch: 2600\t Loss: 0.0161\t Val Acc: 0.6830\n",
      "Epoch: 2700\t Loss: 0.0161\t Val Acc: 0.6785\n",
      "Epoch: 2800\t Loss: 0.0161\t Val Acc: 0.6770\n",
      "Epoch: 2900\t Loss: 0.0160\t Val Acc: 0.6807\n",
      "Epoch: 3000\t Loss: 0.0159\t Val Acc: 0.6867\n",
      "Epoch: 3100\t Loss: 0.0158\t Val Acc: 0.6792\n",
      "Epoch: 3200\t Loss: 0.0159\t Val Acc: 0.6687\n",
      "Epoch: 3300\t Loss: 0.0158\t Val Acc: 0.6822\n",
      "Epoch: 3400\t Loss: 0.0157\t Val Acc: 0.6830\n",
      "Epoch: 3500\t Loss: 0.0157\t Val Acc: 0.6770\n",
      "Epoch: 3600\t Loss: 0.0158\t Val Acc: 0.6792\n",
      "Epoch: 3700\t Loss: 0.0157\t Val Acc: 0.6852\n",
      "Epoch: 3800\t Loss: 0.0158\t Val Acc: 0.6792\n",
      "Epoch: 3900\t Loss: 0.0158\t Val Acc: 0.6822\n",
      "Epoch: 4000\t Loss: 0.0154\t Val Acc: 0.6815\n",
      "Epoch: 4100\t Loss: 0.0154\t Val Acc: 0.6777\n",
      "Epoch: 4200\t Loss: 0.0153\t Val Acc: 0.6792\n",
      "Epoch: 4300\t Loss: 0.0155\t Val Acc: 0.6755\n",
      "Epoch: 4400\t Loss: 0.0154\t Val Acc: 0.6837\n",
      "Epoch: 4500\t Loss: 0.0157\t Val Acc: 0.6807\n",
      "Epoch: 4600\t Loss: 0.0154\t Val Acc: 0.6739\n",
      "Epoch: 4700\t Loss: 0.0153\t Val Acc: 0.6747\n",
      "Epoch: 4800\t Loss: 0.0152\t Val Acc: 0.6717\n",
      "Epoch: 4900\t Loss: 0.0154\t Val Acc: 0.6762\n",
      "Epoch: 5000\t Loss: 0.0156\t Val Acc: 0.6777\n",
      "Epoch: 5100\t Loss: 0.0153\t Val Acc: 0.6867\n",
      "Epoch: 5200\t Loss: 0.0153\t Val Acc: 0.6785\n",
      "Epoch: 5300\t Loss: 0.0152\t Val Acc: 0.6815\n",
      "Epoch: 5400\t Loss: 0.0152\t Val Acc: 0.6785\n",
      "Epoch: 5500\t Loss: 0.0153\t Val Acc: 0.6762\n",
      "Epoch: 5600\t Loss: 0.0153\t Val Acc: 0.6739\n",
      "Epoch: 5700\t Loss: 0.0151\t Val Acc: 0.6739\n",
      "Epoch: 5800\t Loss: 0.0155\t Val Acc: 0.6724\n",
      "Epoch: 5900\t Loss: 0.0154\t Val Acc: 0.6815\n",
      "Epoch: 6000\t Loss: 0.0151\t Val Acc: 0.6770\n",
      "Epoch: 6100\t Loss: 0.0151\t Val Acc: 0.6687\n",
      "Epoch: 6200\t Loss: 0.0157\t Val Acc: 0.6785\n",
      "Epoch: 6300\t Loss: 0.0153\t Val Acc: 0.6739\n",
      "Epoch: 6400\t Loss: 0.0152\t Val Acc: 0.6822\n",
      "Epoch: 6500\t Loss: 0.0149\t Val Acc: 0.6777\n",
      "Epoch: 6600\t Loss: 0.0149\t Val Acc: 0.6747\n",
      "Epoch: 6700\t Loss: 0.0151\t Val Acc: 0.6822\n",
      "Epoch: 6800\t Loss: 0.0152\t Val Acc: 0.6739\n",
      "Epoch: 6900\t Loss: 0.0150\t Val Acc: 0.6724\n",
      "Epoch: 7000\t Loss: 0.0150\t Val Acc: 0.6845\n",
      "Epoch: 7100\t Loss: 0.0150\t Val Acc: 0.6770\n",
      "Epoch: 7200\t Loss: 0.0150\t Val Acc: 0.6792\n",
      "Epoch: 7300\t Loss: 0.0149\t Val Acc: 0.6785\n",
      "Epoch: 7400\t Loss: 0.0151\t Val Acc: 0.6785\n",
      "Epoch: 7500\t Loss: 0.0152\t Val Acc: 0.6762\n",
      "Epoch: 7600\t Loss: 0.0149\t Val Acc: 0.6724\n",
      "Epoch: 7700\t Loss: 0.0151\t Val Acc: 0.6747\n",
      "Epoch: 7800\t Loss: 0.0151\t Val Acc: 0.6777\n",
      "Epoch: 7900\t Loss: 0.0149\t Val Acc: 0.6755\n",
      "Epoch: 8000\t Loss: 0.0151\t Val Acc: 0.6770\n",
      "Epoch: 8100\t Loss: 0.0147\t Val Acc: 0.6739\n",
      "Epoch: 8200\t Loss: 0.0150\t Val Acc: 0.6702\n",
      "Epoch: 8300\t Loss: 0.0150\t Val Acc: 0.6694\n",
      "Epoch: 8400\t Loss: 0.0149\t Val Acc: 0.6755\n",
      "Epoch: 8500\t Loss: 0.0150\t Val Acc: 0.6792\n",
      "Epoch: 8600\t Loss: 0.0149\t Val Acc: 0.6785\n",
      "Epoch: 8700\t Loss: 0.0146\t Val Acc: 0.6785\n",
      "Epoch: 8800\t Loss: 0.0148\t Val Acc: 0.6777\n",
      "Epoch: 8900\t Loss: 0.0147\t Val Acc: 0.6762\n",
      "Epoch: 9000\t Loss: 0.0149\t Val Acc: 0.6739\n",
      "Epoch: 9100\t Loss: 0.0148\t Val Acc: 0.6732\n",
      "Epoch: 9200\t Loss: 0.0148\t Val Acc: 0.6755\n",
      "Epoch: 9300\t Loss: 0.0147\t Val Acc: 0.6785\n",
      "Epoch: 9400\t Loss: 0.0150\t Val Acc: 0.6785\n",
      "Epoch: 9500\t Loss: 0.0147\t Val Acc: 0.6717\n",
      "Epoch: 9600\t Loss: 0.0147\t Val Acc: 0.6785\n",
      "Epoch: 9700\t Loss: 0.0146\t Val Acc: 0.6755\n",
      "Epoch: 9800\t Loss: 0.0146\t Val Acc: 0.6762\n",
      "Epoch: 9900\t Loss: 0.0148\t Val Acc: 0.6777\n",
      "Epoch: 10000\t Loss: 0.0149\t Val Acc: 0.6747\n"
     ]
    }
   ],
   "source": [
    "loss_list_gcn_lda = []\n",
    "accuracy_list_gcn_lda = []\n",
    "\n",
    "for epoch in range(EPOCHS):\n",
    "    model_gcn_lda.train()\n",
    "    optimizer_gcn_lda.zero_grad()\n",
    "    out = model_gcn_lda(data.x, data.edge_index)\n",
    "    loss = loss_fn_gcn_lda(out[data.train_mask], data.y[data.train_mask].float())\n",
    "    loss.backward()\n",
    "    optimizer_gcn_lda.step()\n",
    "\n",
    "    # validate the model\n",
    "    model_gcn_lda.eval()\n",
    "    _, pred = model_gcn_lda(data.x, data.edge_index).max(dim=1)\n",
    "    _, true_labels = torch.max(data.y.float(), dim=1)\n",
    "    correct = float(pred[data.test_mask].eq(true_labels[data.test_mask]).sum().item())\n",
    "    acc = correct / len(data.y[data.test_mask])\n",
    "    loss_list_gcn_lda.append(loss.item())\n",
    "    accuracy_list_gcn_lda.append(acc)\n",
    "    if (epoch+1) % 100 == 0:\n",
    "        print(f'Epoch: {epoch+1:03d}\\t Loss: {loss:.4f}\\t Val Acc: {acc:.4f}')"
   ]
  },
  {
   "cell_type": "code",
   "execution_count": 24,
   "metadata": {},
   "outputs": [
    {
     "name": "stdout",
     "output_type": "stream",
     "text": [
      "Test Acc: 0.6747\n"
     ]
    }
   ],
   "source": [
    "# test the model\n",
    "model_gcn_lda.eval()\n",
    "_, pred = model_gcn_lda(data.x, data.edge_index).max(dim=1)\n",
    "_, true_labels = torch.max(data.y.float(), dim=1)\n",
    "correct = float(pred[data.test_mask].eq(true_labels[data.test_mask]).sum().item())\n",
    "acc = correct / len(data.y[data.test_mask])\n",
    "print(f'Test Acc: {acc:.4f}')"
   ]
  },
  {
   "cell_type": "code",
   "execution_count": 25,
   "metadata": {},
   "outputs": [
    {
     "data": {
      "image/png": "[encoded data removed]",
      "text/plain": [
       "<Figure size 640x480 with 1 Axes>"
      ]
     },
     "metadata": {},
     "output_type": "display_data"
    }
   ],
   "source": [
    "# plot loss and accuracy\n",
    "plt.plot(loss_list_gcn_lda)\n",
    "plt.plot(accuracy_list_gcn_lda)\n",
    "plt.legend(['loss', 'accuracy'])\n",
    "plt.show()"
   ]
  },
  {
   "cell_type": "code",
   "execution_count": 27,
   "metadata": {},
   "outputs": [
    {
     "name": "stdout",
     "output_type": "stream",
     "text": [
      "Training Accuracy LDA:\n",
      "Accuracy: 0.9139197588999811\n",
      "Adjusted Rand Index: 0.7463705152442902\n",
      "\n",
      "Testing Accuracy LDA:\n",
      "Accuracy: 0.9231927710843374\n",
      "Adjusted Rand Index: 0.7744531891584442\n"
     ]
    }
   ],
   "source": [
    "model_gcn_lda.eval()\n",
    "with torch.no_grad():\n",
    "    embeddings = model_gcn_lda(data.x, data.edge_index)\n",
    "\n",
    "X_TRAIN, X_TEST, Y_TRAIN, Y_TEST = train_test_split(embeddings.cpu().numpy(), Y, test_size=0.2, random_state=42)\n",
    "\n",
    "lda_gcn = LinearDiscriminantAnalysis()\n",
    "lda_gcn.fit(X_TRAIN, Y_TRAIN)\n",
    "Y_PRED_LDA_GCN = lda_gcn.predict(X_TRAIN)\n",
    "\n",
    "print(\"Training Accuracy LDA:\")\n",
    "print(f\"Accuracy: {np.sum(Y_TRAIN == Y_PRED_LDA_GCN) / len(Y_TRAIN)}\")\n",
    "print(f\"Adjusted Rand Index: {adjusted_rand_score(Y_TRAIN, Y_PRED_LDA_GCN)}\")\n",
    "\n",
    "print()\n",
    "print(\"Testing Accuracy LDA:\")\n",
    "print(f\"Accuracy: {np.sum(Y_TEST == lda_gcn.predict(X_TEST)) / len(Y_TEST)}\")\n",
    "print(f\"Adjusted Rand Index: {adjusted_rand_score(Y_TEST, lda_gcn.predict(X_TEST))}\")"
   ]
  },
  {
   "cell_type": "markdown",
   "metadata": {},
   "source": [
    "## Spectral Embedding"
   ]
  },
  {
   "cell_type": "code",
   "execution_count": 28,
   "metadata": {},
   "outputs": [],
   "source": [
    "embedding = SpectralEmbedding(n_components=NUM_CLASSES_CLUSTERS)  # 2D embedding\n",
    "spectral_embedding = embedding.fit_transform(adjacency_matrix, Y)"
   ]
  },
  {
   "cell_type": "code",
   "execution_count": 29,
   "metadata": {},
   "outputs": [],
   "source": [
    "X_TRAIN, X_TEST, Y_TRAIN, Y_TEST = train_test_split(spectral_embedding, Y, test_size=0.2, random_state=42)"
   ]
  },
  {
   "cell_type": "code",
   "execution_count": 30,
   "metadata": {},
   "outputs": [
    {
     "name": "stdout",
     "output_type": "stream",
     "text": [
      "Training Accuracy LDA:\n",
      "Accuracy: 0.5503861367489169\n",
      "Adjusted Rand Index: 0.0020506684744887103\n",
      "\n",
      "Testing Accuracy LDA:\n",
      "Accuracy: 0.5466867469879518\n",
      "Adjusted Rand Index: -0.0003962629562524497\n"
     ]
    }
   ],
   "source": [
    "lda_spectral = LinearDiscriminantAnalysis()\n",
    "lda_spectral.fit(X_TRAIN, Y_TRAIN)\n",
    "Y_PRED_LDA_SPECTRAL = lda_spectral.predict(X_TRAIN)\n",
    "\n",
    "print(\"Training Accuracy LDA:\")\n",
    "print(f\"Accuracy: {np.sum(Y_TRAIN == Y_PRED_LDA_SPECTRAL) / len(Y_TRAIN)}\")\n",
    "print(f\"Adjusted Rand Index: {adjusted_rand_score(Y_TRAIN, Y_PRED_LDA_SPECTRAL)}\")\n",
    "\n",
    "print()\n",
    "print(\"Testing Accuracy LDA:\")\n",
    "print(f\"Accuracy: {np.sum(Y_TEST == lda_spectral.predict(X_TEST)) / len(Y_TEST)}\")\n",
    "print(f\"Adjusted Rand Index: {adjusted_rand_score(Y_TEST, lda_spectral.predict(X_TEST))}\")"
   ]
  },
  {
   "cell_type": "code",
   "execution_count": 31,
   "metadata": {},
   "outputs": [
    {
     "name": "stdout",
     "output_type": "stream",
     "text": [
      "Training Accuracy QDA:\n",
      "Accuracy: 0.5377660576379732\n",
      "Adjusted Rand Index: -0.0052523129906634535\n",
      "\n",
      "Testing Accuracy QDA:\n",
      "Accuracy: 0.5406626506024096\n",
      "Adjusted Rand Index: -0.0021172162511052858\n"
     ]
    }
   ],
   "source": [
    "qda_spectral = QuadraticDiscriminantAnalysis()\n",
    "qda_spectral.fit(X_TRAIN, Y_TRAIN)\n",
    "Y_PRED_QDA_SPECTRAL = qda_spectral.predict(X_TRAIN)\n",
    "\n",
    "print(\"Training Accuracy QDA:\")\n",
    "print(f\"Accuracy: {np.sum(Y_TRAIN == Y_PRED_QDA_SPECTRAL) / len(Y_TRAIN)}\")\n",
    "print(f\"Adjusted Rand Index: {adjusted_rand_score(Y_TRAIN, Y_PRED_QDA_SPECTRAL)}\")\n",
    "\n",
    "print()\n",
    "print(\"Testing Accuracy QDA:\")\n",
    "print(f\"Accuracy: {np.sum(Y_TEST == qda_spectral.predict(X_TEST)) / len(Y_TEST)}\")\n",
    "print(f\"Adjusted Rand Index: {adjusted_rand_score(Y_TEST, qda_spectral.predict(X_TEST))}\")"
   ]
  },
  {
   "cell_type": "code",
   "execution_count": 32,
   "metadata": {},
   "outputs": [
    {
     "name": "stdout",
     "output_type": "stream",
     "text": [
      "Training Accuracy KMeans:\n",
      "Accuracy: 0.09662836692409117\n",
      "Adjusted Rand Index: -0.00287458294196429\n",
      "\n",
      "Testing Accuracy KMeans:\n",
      "Accuracy: 0.10316265060240964\n",
      "Adjusted Rand Index: -0.000558088228946664\n"
     ]
    },
    {
     "name": "stderr",
     "output_type": "stream",
     "text": [
      "c:\\Users\\Maitri\\Desktop\\STAT622\\.venv\\lib\\site-packages\\sklearn\\cluster\\_kmeans.py:1416: FutureWarning: The default value of `n_init` will change from 10 to 'auto' in 1.4. Set the value of `n_init` explicitly to suppress the warning\n",
      "  super()._check_params_vs_input(X, default_n_init=10)\n"
     ]
    }
   ],
   "source": [
    "kmeans_spectral = KMeans(n_clusters=NUM_CLASSES_CLUSTERS)\n",
    "kmeans_spectral.fit(X_TRAIN)\n",
    "Y_PRED_KMEANS_SPECTRAL = kmeans_spectral.predict(X_TRAIN)\n",
    "\n",
    "print(\"Training Accuracy KMeans:\")\n",
    "print(f\"Accuracy: {np.sum(Y_TRAIN-1 == Y_PRED_KMEANS_SPECTRAL) / len(Y_TRAIN)}\")\n",
    "print(f\"Adjusted Rand Index: {adjusted_rand_score(Y_TRAIN-1, Y_PRED_KMEANS_SPECTRAL)}\")\n",
    "\n",
    "print()\n",
    "print(\"Testing Accuracy KMeans:\")\n",
    "print(f\"Accuracy: {np.sum(Y_TEST-1 == kmeans_spectral.predict(X_TEST)) / len(Y_TEST)}\")\n",
    "print(f\"Adjusted Rand Index: {adjusted_rand_score(Y_TEST-1, kmeans_spectral.predict(X_TEST))}\")"
   ]
  },
  {
   "cell_type": "code",
   "execution_count": 33,
   "metadata": {},
   "outputs": [
    {
     "name": "stdout",
     "output_type": "stream",
     "text": [
      "Training Accuracy SVM:\n",
      "Accuracy: 0.562817856470145\n",
      "Adjusted Rand Index: 0.012879884293737308\n",
      "\n",
      "Testing Accuracy SVM:\n",
      "Accuracy: 0.5587349397590361\n",
      "Adjusted Rand Index: 0.006921547161471075\n"
     ]
    }
   ],
   "source": [
    "svm_spectral = SVC()\n",
    "svm_spectral.fit(X_TRAIN, Y_TRAIN)\n",
    "Y_PRED_SVM_SPECTRAL = svm_spectral.predict(X_TRAIN)\n",
    "\n",
    "print(\"Training Accuracy SVM:\")\n",
    "print(f\"Accuracy: {np.sum(Y_TRAIN == Y_PRED_SVM_SPECTRAL) / len(Y_TRAIN)}\")\n",
    "print(f\"Adjusted Rand Index: {adjusted_rand_score(Y_TRAIN, Y_PRED_SVM_SPECTRAL)}\")\n",
    "\n",
    "print()\n",
    "print(\"Testing Accuracy SVM:\")\n",
    "print(f\"Accuracy: {np.sum(Y_TEST == svm_spectral.predict(X_TEST)) / len(Y_TEST)}\")\n",
    "print(f\"Adjusted Rand Index: {adjusted_rand_score(Y_TEST, svm_spectral.predict(X_TEST))}\")"
   ]
  },
  {
   "cell_type": "markdown",
   "metadata": {},
   "source": [
    "## Node2Vec"
   ]
  },
  {
   "cell_type": "code",
   "execution_count": 34,
   "metadata": {},
   "outputs": [
    {
     "data": {
      "application/vnd.jupyter.widget-view+json": {
       "model_id": "f4d6cc8149e34d768e4fe8b4718be793",
       "version_major": 2,
       "version_minor": 0
      },
      "text/plain": [
       "Computing transition probabilities:   0%|          | 0/6637 [00:00<?, ?it/s]"
      ]
     },
     "metadata": {},
     "output_type": "display_data"
    }
   ],
   "source": [
    "node2vec_model = node2vec.Node2Vec(G, dimensions=NUM_CLASSES_CLUSTERS, num_walks=200, workers=4)\n",
    "\n",
    "model = node2vec_model.fit(window=10, min_count=1, batch_words=4)\n",
    "\n",
    "embeddings = model.wv\n",
    "\n",
    "node_ids = list(G.nodes())  # List of nodes in the graph\n",
    "embedding_matrix = np.array([model.wv[str(node_id)] for node_id in node_ids])"
   ]
  },
  {
   "cell_type": "code",
   "execution_count": 35,
   "metadata": {},
   "outputs": [],
   "source": [
    "X_TRAIN, X_TEST, Y_TRAIN, Y_TEST = train_test_split(embedding_matrix, Y, test_size=0.2, random_state=42)"
   ]
  },
  {
   "cell_type": "code",
   "execution_count": 36,
   "metadata": {},
   "outputs": [
    {
     "name": "stdout",
     "output_type": "stream",
     "text": [
      "Training Accuracy LDA:\n",
      "Accuracy: 0.43995781226457736\n",
      "Adjusted Rand Index: 0.0\n",
      "\n",
      "Testing Accuracy LDA:\n",
      "Accuracy: 0.552710843373494\n",
      "Adjusted Rand Index: 0.0\n"
     ]
    }
   ],
   "source": [
    "lda_node = LinearDiscriminantAnalysis(n_components=2)\n",
    "lda_node.fit(X_TRAIN, Y_TRAIN)\n",
    "Y_PRED_LDA_NODE = lda_node.predict(X_TRAIN)\n",
    "\n",
    "print(\"Training Accuracy LDA:\")\n",
    "print(f\"Accuracy: {np.sum(Y_TRAIN == Y_PRED_LDA_NODE) / len(Y)}\")\n",
    "print(f\"Adjusted Rand Index: {adjusted_rand_score(Y_TRAIN, Y_PRED_LDA_NODE)}\")\\\n",
    "\n",
    "print()\n",
    "print(\"Testing Accuracy LDA:\")\n",
    "print(f\"Accuracy: {np.sum(Y_TEST == lda_node.predict(X_TEST)) / len(Y_TEST)}\")\n",
    "print(f\"Adjusted Rand Index: {adjusted_rand_score(Y_TEST, lda_node.predict(X_TEST))}\")"
   ]
  },
  {
   "cell_type": "code",
   "execution_count": 37,
   "metadata": {},
   "outputs": [
    {
     "name": "stdout",
     "output_type": "stream",
     "text": [
      "Training Accuracy QDA:\n",
      "Accuracy: 0.5500094179694858\n",
      "Adjusted Rand Index: 0.0\n",
      "\n",
      "Testing Accuracy QDA:\n",
      "Accuracy: 0.552710843373494\n",
      "Adjusted Rand Index: 0.0\n"
     ]
    }
   ],
   "source": [
    "qda_node = QuadraticDiscriminantAnalysis()\n",
    "qda_node.fit(X_TRAIN, Y_TRAIN)\n",
    "Y_PRED_QDA_NODE = qda_node.predict(X_TRAIN)\n",
    "\n",
    "print(\"Training Accuracy QDA:\")\n",
    "print(f\"Accuracy: {np.sum(Y_TRAIN == Y_PRED_QDA_NODE) / len(Y_TRAIN)}\")\n",
    "print(f\"Adjusted Rand Index: {adjusted_rand_score(Y_TRAIN, Y_PRED_QDA_NODE)}\")\n",
    "\n",
    "print()\n",
    "print(\"Testing Accuracy QDA:\")\n",
    "print(f\"Accuracy: {np.sum(Y_TEST == qda_node.predict(X_TEST)) / len(Y_TEST)}\")\n",
    "print(f\"Adjusted Rand Index: {adjusted_rand_score(Y_TEST, qda_node.predict(X_TEST))}\")"
   ]
  },
  {
   "cell_type": "code",
   "execution_count": 38,
   "metadata": {},
   "outputs": [
    {
     "name": "stdout",
     "output_type": "stream",
     "text": [
      "Training Accuracy KMeans:\n",
      "Accuracy: 0.3996986249764551\n",
      "Adjusted Rand Index: -0.00021909594753431792\n",
      "\n",
      "Testing Accuracy KMeans:\n",
      "Accuracy: 0.401355421686747\n",
      "Adjusted Rand Index: -0.0019633943661673133\n"
     ]
    },
    {
     "name": "stderr",
     "output_type": "stream",
     "text": [
      "c:\\Users\\Maitri\\Desktop\\STAT622\\.venv\\lib\\site-packages\\sklearn\\cluster\\_kmeans.py:1416: FutureWarning: The default value of `n_init` will change from 10 to 'auto' in 1.4. Set the value of `n_init` explicitly to suppress the warning\n",
      "  super()._check_params_vs_input(X, default_n_init=10)\n"
     ]
    }
   ],
   "source": [
    "kmeans_node = KMeans(n_clusters=NUM_CLASSES_CLUSTERS)\n",
    "kmeans_node.fit(X_TRAIN)\n",
    "Y_PRED_KMEANS_NODE = kmeans_node.predict(X_TRAIN)\n",
    "\n",
    "print(\"Training Accuracy KMeans:\")\n",
    "print(f\"Accuracy: {np.sum(Y_TRAIN-1 == Y_PRED_KMEANS_NODE) / len(Y_TRAIN)}\")\n",
    "print(f\"Adjusted Rand Index: {adjusted_rand_score(Y_TRAIN-1, Y_PRED_KMEANS_NODE)}\")\n",
    "\n",
    "print()\n",
    "print(\"Testing Accuracy KMeans:\")\n",
    "print(f\"Accuracy: {np.sum(Y_TEST-1 == kmeans_node.predict(X_TEST)) / len(Y_TEST)}\")\n",
    "print(f\"Adjusted Rand Index: {adjusted_rand_score(Y_TEST-1, kmeans_node.predict(X_TEST))}\")"
   ]
  },
  {
   "cell_type": "code",
   "execution_count": 39,
   "metadata": {},
   "outputs": [
    {
     "name": "stdout",
     "output_type": "stream",
     "text": [
      "Training Accuracy SVM:\n",
      "Accuracy: 0.5500094179694858\n",
      "Adjusted Rand Index: 0.0\n",
      "\n",
      "Testing Accuracy SVM:\n",
      "Accuracy: 0.552710843373494\n",
      "Adjusted Rand Index: 0.0\n"
     ]
    }
   ],
   "source": [
    "svm_node = SVC()\n",
    "svm_node.fit(X_TRAIN, Y_TRAIN)\n",
    "Y_PRED_SVM_NODE = svm_node.predict(X_TRAIN)\n",
    "\n",
    "print(\"Training Accuracy SVM:\")\n",
    "print(f\"Accuracy: {np.sum(Y_TRAIN == Y_PRED_SVM_NODE) / len(Y_TRAIN)}\")\n",
    "print(f\"Adjusted Rand Index: {adjusted_rand_score(Y_TRAIN, Y_PRED_SVM_NODE)}\")\n",
    "\n",
    "print()\n",
    "print(\"Testing Accuracy SVM:\")\n",
    "print(f\"Accuracy: {np.sum(Y_TEST == svm_node.predict(X_TEST)) / len(Y_TEST)}\")\n",
    "print(f\"Adjusted Rand Index: {adjusted_rand_score(Y_TEST, svm_node.predict(X_TEST))}\")"
   ]
  },
  {
   "cell_type": "code",
   "execution_count": null,
   "metadata": {},
   "outputs": [],
   "source": []
  }
 ],
 "metadata": {
  "kernelspec": {
   "display_name": ".venv",
   "language": "python",
   "name": "python3"
  },
  "language_info": {
   "codemirror_mode": {
    "name": "ipython",
    "version": 3
   },
   "file_extension": ".py",
   "mimetype": "text/x-python",
   "name": "python",
   "nbconvert_exporter": "python",
   "pygments_lexer": "ipython3",
   "version": "3.10.9"
  }
 },
 "nbformat": 4,
 "nbformat_minor": 2
}
